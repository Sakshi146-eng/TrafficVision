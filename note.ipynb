{
 "cells": [
  {
   "cell_type": "code",
   "execution_count": 1,
   "id": "26732e8b",
   "metadata": {},
   "outputs": [],
   "source": [
    "import os\n",
    "import glob\n",
    "import shutil\n",
    "from pathlib import Path\n",
    "from IPython.display import Image, display, HTML\n",
    "from base64 import b64encode"
   ]
  },
  {
   "cell_type": "code",
   "execution_count": 2,
   "id": "057d1c6e",
   "metadata": {},
   "outputs": [
    {
     "name": "stdout",
     "output_type": "stream",
     "text": [
      "Current working directory: c:\\Users\\tusha\\OneDrive\\Desktop\\rg\n"
     ]
    }
   ],
   "source": [
    "HOME = os.getcwd()\n",
    "print(f\"Current working directory: {HOME}\")"
   ]
  },
  {
   "cell_type": "code",
   "execution_count": 4,
   "id": "9b9c7a4d",
   "metadata": {},
   "outputs": [
    {
     "name": "stdout",
     "output_type": "stream",
     "text": [
      "c:\\Users\\tusha\\OneDrive\\Desktop\\rg\\ultralytics\n",
      "Obtaining file:///C:/Users/tusha/OneDrive/Desktop/rg/ultralytics\n",
      "  Installing build dependencies: started\n",
      "  Installing build dependencies: finished with status 'done'\n",
      "  Checking if build backend supports build_editable: started\n",
      "  Checking if build backend supports build_editable: finished with status 'done'\n",
      "  Getting requirements to build editable: started\n",
      "  Getting requirements to build editable: finished with status 'done'\n",
      "  Preparing editable metadata (pyproject.toml): started\n",
      "  Preparing editable metadata (pyproject.toml): finished with status 'done'\n",
      "Requirement already satisfied: numpy>=1.23.0 in c:\\users\\tusha\\appdata\\roaming\\python\\python313\\site-packages (from ultralytics==8.3.170) (2.3.2)\n",
      "Requirement already satisfied: matplotlib>=3.3.0 in c:\\users\\tusha\\appdata\\roaming\\python\\python313\\site-packages (from ultralytics==8.3.170) (3.10.3)\n",
      "Requirement already satisfied: opencv-python>=4.6.0 in c:\\users\\tusha\\appdata\\local\\programs\\python\\python313\\lib\\site-packages (from ultralytics==8.3.170) (4.12.0.88)\n",
      "Requirement already satisfied: pillow>=7.1.2 in c:\\users\\tusha\\appdata\\roaming\\python\\python313\\site-packages (from ultralytics==8.3.170) (11.3.0)\n",
      "Requirement already satisfied: pyyaml>=5.3.1 in c:\\users\\tusha\\appdata\\roaming\\python\\python313\\site-packages (from ultralytics==8.3.170) (6.0.2)\n",
      "Requirement already satisfied: requests>=2.23.0 in c:\\users\\tusha\\appdata\\roaming\\python\\python313\\site-packages (from ultralytics==8.3.170) (2.32.4)\n",
      "Requirement already satisfied: scipy>=1.4.1 in c:\\users\\tusha\\appdata\\local\\programs\\python\\python313\\lib\\site-packages (from ultralytics==8.3.170) (1.14.1)\n",
      "Requirement already satisfied: torch>=1.8.0 in c:\\users\\tusha\\appdata\\local\\programs\\python\\python313\\lib\\site-packages (from ultralytics==8.3.170) (2.7.1)\n",
      "Requirement already satisfied: torchvision>=0.9.0 in c:\\users\\tusha\\appdata\\local\\programs\\python\\python313\\lib\\site-packages (from ultralytics==8.3.170) (0.22.1)\n",
      "Requirement already satisfied: tqdm>=4.64.0 in c:\\users\\tusha\\appdata\\roaming\\python\\python313\\site-packages (from ultralytics==8.3.170) (4.67.1)\n",
      "Requirement already satisfied: psutil in c:\\users\\tusha\\appdata\\local\\programs\\python\\python313\\lib\\site-packages (from ultralytics==8.3.170) (6.1.1)\n",
      "Requirement already satisfied: py-cpuinfo in c:\\users\\tusha\\appdata\\local\\programs\\python\\python313\\lib\\site-packages (from ultralytics==8.3.170) (9.0.0)\n",
      "Requirement already satisfied: pandas>=1.1.4 in c:\\users\\tusha\\appdata\\local\\programs\\python\\python313\\lib\\site-packages (from ultralytics==8.3.170) (2.2.3)\n",
      "Requirement already satisfied: ultralytics-thop>=2.0.0 in c:\\users\\tusha\\appdata\\local\\programs\\python\\python313\\lib\\site-packages (from ultralytics==8.3.170) (2.0.14)\n",
      "Requirement already satisfied: contourpy>=1.0.1 in c:\\users\\tusha\\appdata\\roaming\\python\\python313\\site-packages (from matplotlib>=3.3.0->ultralytics==8.3.170) (1.3.3)\n",
      "Requirement already satisfied: cycler>=0.10 in c:\\users\\tusha\\appdata\\roaming\\python\\python313\\site-packages (from matplotlib>=3.3.0->ultralytics==8.3.170) (0.12.1)\n",
      "Requirement already satisfied: fonttools>=4.22.0 in c:\\users\\tusha\\appdata\\roaming\\python\\python313\\site-packages (from matplotlib>=3.3.0->ultralytics==8.3.170) (4.59.0)\n",
      "Requirement already satisfied: kiwisolver>=1.3.1 in c:\\users\\tusha\\appdata\\roaming\\python\\python313\\site-packages (from matplotlib>=3.3.0->ultralytics==8.3.170) (1.4.8)\n",
      "Requirement already satisfied: packaging>=20.0 in c:\\users\\tusha\\appdata\\roaming\\python\\python313\\site-packages (from matplotlib>=3.3.0->ultralytics==8.3.170) (25.0)\n",
      "Requirement already satisfied: pyparsing>=2.3.1 in c:\\users\\tusha\\appdata\\roaming\\python\\python313\\site-packages (from matplotlib>=3.3.0->ultralytics==8.3.170) (3.2.3)\n",
      "Requirement already satisfied: python-dateutil>=2.7 in c:\\users\\tusha\\appdata\\roaming\\python\\python313\\site-packages (from matplotlib>=3.3.0->ultralytics==8.3.170) (2.9.0.post0)\n",
      "Collecting numpy>=1.23.0 (from ultralytics==8.3.170)\n",
      "  Downloading numpy-2.2.6-cp313-cp313-win_amd64.whl.metadata (60 kB)\n",
      "Requirement already satisfied: pytz>=2020.1 in c:\\users\\tusha\\appdata\\local\\programs\\python\\python313\\lib\\site-packages (from pandas>=1.1.4->ultralytics==8.3.170) (2024.2)\n",
      "Requirement already satisfied: tzdata>=2022.7 in c:\\users\\tusha\\appdata\\local\\programs\\python\\python313\\lib\\site-packages (from pandas>=1.1.4->ultralytics==8.3.170) (2024.2)\n",
      "Requirement already satisfied: six>=1.5 in c:\\users\\tusha\\appdata\\roaming\\python\\python313\\site-packages (from python-dateutil>=2.7->matplotlib>=3.3.0->ultralytics==8.3.170) (1.17.0)\n",
      "Requirement already satisfied: charset_normalizer<4,>=2 in c:\\users\\tusha\\appdata\\roaming\\python\\python313\\site-packages (from requests>=2.23.0->ultralytics==8.3.170) (3.4.2)\n",
      "Requirement already satisfied: idna<4,>=2.5 in c:\\users\\tusha\\appdata\\roaming\\python\\python313\\site-packages (from requests>=2.23.0->ultralytics==8.3.170) (3.7)\n",
      "Requirement already satisfied: urllib3<3,>=1.21.1 in c:\\users\\tusha\\appdata\\roaming\\python\\python313\\site-packages (from requests>=2.23.0->ultralytics==8.3.170) (2.5.0)\n",
      "Requirement already satisfied: certifi>=2017.4.17 in c:\\users\\tusha\\appdata\\roaming\\python\\python313\\site-packages (from requests>=2.23.0->ultralytics==8.3.170) (2025.7.14)\n",
      "Requirement already satisfied: filelock in c:\\users\\tusha\\appdata\\local\\programs\\python\\python313\\lib\\site-packages (from torch>=1.8.0->ultralytics==8.3.170) (3.18.0)\n",
      "Requirement already satisfied: typing-extensions>=4.10.0 in c:\\users\\tusha\\appdata\\local\\programs\\python\\python313\\lib\\site-packages (from torch>=1.8.0->ultralytics==8.3.170) (4.12.2)\n",
      "Requirement already satisfied: sympy>=1.13.3 in c:\\users\\tusha\\appdata\\local\\programs\\python\\python313\\lib\\site-packages (from torch>=1.8.0->ultralytics==8.3.170) (1.14.0)\n",
      "Requirement already satisfied: networkx in c:\\users\\tusha\\appdata\\local\\programs\\python\\python313\\lib\\site-packages (from torch>=1.8.0->ultralytics==8.3.170) (3.5)\n",
      "Requirement already satisfied: jinja2 in c:\\users\\tusha\\appdata\\local\\programs\\python\\python313\\lib\\site-packages (from torch>=1.8.0->ultralytics==8.3.170) (3.1.4)\n",
      "Requirement already satisfied: fsspec in c:\\users\\tusha\\appdata\\local\\programs\\python\\python313\\lib\\site-packages (from torch>=1.8.0->ultralytics==8.3.170) (2025.7.0)\n",
      "Requirement already satisfied: setuptools in c:\\users\\tusha\\appdata\\local\\programs\\python\\python313\\lib\\site-packages (from torch>=1.8.0->ultralytics==8.3.170) (75.6.0)\n",
      "Requirement already satisfied: mpmath<1.4,>=1.1.0 in c:\\users\\tusha\\appdata\\local\\programs\\python\\python313\\lib\\site-packages (from sympy>=1.13.3->torch>=1.8.0->ultralytics==8.3.170) (1.3.0)\n",
      "Requirement already satisfied: colorama in c:\\users\\tusha\\appdata\\roaming\\python\\python313\\site-packages (from tqdm>=4.64.0->ultralytics==8.3.170) (0.4.6)\n",
      "Requirement already satisfied: MarkupSafe>=2.0 in c:\\users\\tusha\\appdata\\local\\programs\\python\\python313\\lib\\site-packages (from jinja2->torch>=1.8.0->ultralytics==8.3.170) (3.0.2)\n",
      "Downloading numpy-2.2.6-cp313-cp313-win_amd64.whl (12.6 MB)\n",
      "   ---------------------------------------- 0.0/12.6 MB ? eta -:--:--\n",
      "   ------ --------------------------------- 2.1/12.6 MB 14.4 MB/s eta 0:00:01\n",
      "   -------------------------- ------------- 8.4/12.6 MB 24.0 MB/s eta 0:00:01\n",
      "   ---------------------------------------- 12.6/12.6 MB 22.6 MB/s eta 0:00:00\n",
      "Building wheels for collected packages: ultralytics\n",
      "  Building editable for ultralytics (pyproject.toml): started\n",
      "  Building editable for ultralytics (pyproject.toml): finished with status 'done'\n",
      "  Created wheel for ultralytics: filename=ultralytics-8.3.170-0.editable-py3-none-any.whl size=23403 sha256=ef1960031f122adf4d754b793fe62f77e3b038680f611e0e2cd434d632484a64\n",
      "  Stored in directory: C:\\Users\\tusha\\AppData\\Local\\Temp\\pip-ephem-wheel-cache-zmz2ymbx\\wheels\\1e\\e2\\4b\\aeda2b42383070352c62d3b81adeba2862b710636fdae2a4f2\n",
      "Successfully built ultralytics\n",
      "Installing collected packages: numpy, ultralytics\n",
      "\n",
      "  Attempting uninstall: numpy\n",
      "\n",
      "    Found existing installation: numpy 2.3.2\n",
      "\n",
      "    Uninstalling numpy-2.3.2:\n",
      "\n",
      "   ---------------------------------------- 0/2 [numpy]\n",
      "   ---------------------------------------- 0/2 [numpy]\n",
      "   ---------------------------------------- 0/2 [numpy]\n",
      "   ---------------------------------------- 0/2 [numpy]\n",
      "   ---------------------------------------- 0/2 [numpy]\n",
      "   ---------------------------------------- 0/2 [numpy]\n",
      "   ---------------------------------------- 0/2 [numpy]\n",
      "   ---------------------------------------- 0/2 [numpy]\n",
      "   ---------------------------------------- 0/2 [numpy]\n",
      "   ---------------------------------------- 0/2 [numpy]\n",
      "   ---------------------------------------- 0/2 [numpy]\n",
      "   ---------------------------------------- 0/2 [numpy]\n",
      "   ---------------------------------------- 0/2 [numpy]\n",
      "      Successfully uninstalled numpy-2.3.2\n",
      "   ---------------------------------------- 0/2 [numpy]\n",
      "   ---------------------------------------- 0/2 [numpy]\n",
      "   ---------------------------------------- 0/2 [numpy]\n",
      "   ---------------------------------------- 0/2 [numpy]\n",
      "   ---------------------------------------- 0/2 [numpy]\n",
      "   ---------------------------------------- 0/2 [numpy]\n",
      "   ---------------------------------------- 0/2 [numpy]\n",
      "   ---------------------------------------- 0/2 [numpy]\n",
      "   ---------------------------------------- 0/2 [numpy]\n",
      "   ---------------------------------------- 0/2 [numpy]\n",
      "   ---------------------------------------- 0/2 [numpy]\n",
      "   ---------------------------------------- 0/2 [numpy]\n",
      "   ---------------------------------------- 0/2 [numpy]\n",
      "   ---------------------------------------- 0/2 [numpy]\n",
      "   ---------------------------------------- 0/2 [numpy]\n",
      "   ---------------------------------------- 0/2 [numpy]\n",
      "   ---------------------------------------- 0/2 [numpy]\n",
      "   ---------------------------------------- 0/2 [numpy]\n",
      "   ---------------------------------------- 0/2 [numpy]\n",
      "   ---------------------------------------- 0/2 [numpy]\n",
      "   ---------------------------------------- 0/2 [numpy]\n",
      "   ---------------------------------------- 0/2 [numpy]\n",
      "   ---------------------------------------- 0/2 [numpy]\n",
      "   ---------------------------------------- 0/2 [numpy]\n",
      "   ---------------------------------------- 0/2 [numpy]\n",
      "   ---------------------------------------- 0/2 [numpy]\n",
      "   ---------------------------------------- 0/2 [numpy]\n",
      "   ---------------------------------------- 0/2 [numpy]\n",
      "   ---------------------------------------- 0/2 [numpy]\n",
      "   ---------------------------------------- 0/2 [numpy]\n",
      "   ---------------------------------------- 0/2 [numpy]\n",
      "   ---------------------------------------- 0/2 [numpy]\n",
      "   ---------------------------------------- 0/2 [numpy]\n",
      "   ---------------------------------------- 0/2 [numpy]\n",
      "   ---------------------------------------- 0/2 [numpy]\n",
      "   ---------------------------------------- 0/2 [numpy]\n",
      "   ---------------------------------------- 0/2 [numpy]\n",
      "   ---------------------------------------- 0/2 [numpy]\n",
      "   ---------------------------------------- 0/2 [numpy]\n",
      "   ---------------------------------------- 0/2 [numpy]\n",
      "   ---------------------------------------- 0/2 [numpy]\n",
      "   ---------------------------------------- 0/2 [numpy]\n",
      "   ---------------------------------------- 0/2 [numpy]\n",
      "   ---------------------------------------- 0/2 [numpy]\n",
      "   ---------------------------------------- 0/2 [numpy]\n",
      "   ---------------------------------------- 0/2 [numpy]\n",
      "   ---------------------------------------- 0/2 [numpy]\n",
      "   ---------------------------------------- 0/2 [numpy]\n",
      "   ---------------------------------------- 0/2 [numpy]\n",
      "   ---------------------------------------- 0/2 [numpy]\n",
      "   ---------------------------------------- 0/2 [numpy]\n",
      "   ---------------------------------------- 0/2 [numpy]\n",
      "   ---------------------------------------- 0/2 [numpy]\n",
      "   ---------------------------------------- 0/2 [numpy]\n",
      "   ---------------------------------------- 0/2 [numpy]\n",
      "   ---------------------------------------- 0/2 [numpy]\n",
      "   ---------------------------------------- 0/2 [numpy]\n",
      "   ---------------------------------------- 0/2 [numpy]\n",
      "   ---------------------------------------- 0/2 [numpy]\n",
      "   ---------------------------------------- 0/2 [numpy]\n",
      "   ---------------------------------------- 0/2 [numpy]\n",
      "   ---------------------------------------- 0/2 [numpy]\n",
      "   ---------------------------------------- 0/2 [numpy]\n",
      "   ---------------------------------------- 0/2 [numpy]\n",
      "   ---------------------------------------- 0/2 [numpy]\n",
      "   ---------------------------------------- 0/2 [numpy]\n",
      "   ---------------------------------------- 0/2 [numpy]\n",
      "   ---------------------------------------- 0/2 [numpy]\n",
      "   ---------------------------------------- 0/2 [numpy]\n",
      "   ---------------------------------------- 0/2 [numpy]\n",
      "   ---------------------------------------- 0/2 [numpy]\n",
      "   ---------------------------------------- 0/2 [numpy]\n",
      "  Attempting uninstall: ultralytics\n",
      "   ---------------------------------------- 0/2 [numpy]\n",
      "    Found existing installation: ultralytics 8.3.170\n",
      "   ---------------------------------------- 0/2 [numpy]\n",
      "    Uninstalling ultralytics-8.3.170:\n",
      "   ---------------------------------------- 0/2 [numpy]\n",
      "   -------------------- ------------------- 1/2 [ultralytics]\n",
      "   -------------------- ------------------- 1/2 [ultralytics]\n",
      "   -------------------- ------------------- 1/2 [ultralytics]\n",
      "   -------------------- ------------------- 1/2 [ultralytics]\n",
      "   -------------------- ------------------- 1/2 [ultralytics]\n",
      "   -------------------- ------------------- 1/2 [ultralytics]\n",
      "   -------------------- ------------------- 1/2 [ultralytics]\n",
      "   -------------------- ------------------- 1/2 [ultralytics]\n",
      "   -------------------- ------------------- 1/2 [ultralytics]\n",
      "   -------------------- ------------------- 1/2 [ultralytics]\n",
      "   -------------------- ------------------- 1/2 [ultralytics]\n",
      "   -------------------- ------------------- 1/2 [ultralytics]\n",
      "   -------------------- ------------------- 1/2 [ultralytics]\n",
      "   -------------------- ------------------- 1/2 [ultralytics]\n",
      "   -------------------- ------------------- 1/2 [ultralytics]\n",
      "   -------------------- ------------------- 1/2 [ultralytics]\n",
      "   -------------------- ------------------- 1/2 [ultralytics]\n",
      "   -------------------- ------------------- 1/2 [ultralytics]\n",
      "   -------------------- ------------------- 1/2 [ultralytics]\n",
      "   -------------------- ------------------- 1/2 [ultralytics]\n",
      "   -------------------- ------------------- 1/2 [ultralytics]\n",
      "   -------------------- ------------------- 1/2 [ultralytics]\n",
      "   -------------------- ------------------- 1/2 [ultralytics]\n",
      "      Successfully uninstalled ultralytics-8.3.170\n",
      "   -------------------- ------------------- 1/2 [ultralytics]\n",
      "   -------------------- ------------------- 1/2 [ultralytics]\n",
      "   -------------------- ------------------- 1/2 [ultralytics]\n",
      "   ---------------------------------------- 2/2 [ultralytics]\n",
      "\n",
      "Successfully installed numpy-2.2.6 ultralytics-8.3.170\n"
     ]
    },
    {
     "name": "stderr",
     "output_type": "stream",
     "text": [
      "ERROR: pip's dependency resolver does not currently take into account all the packages that are installed. This behaviour is the source of the following dependency conflicts.\n",
      "streamlit 1.41.1 requires packaging<25,>=20, but you have packaging 25.0 which is incompatible.\n"
     ]
    }
   ],
   "source": [
    "%cd ultralytics\n",
    "!pip install -e ."
   ]
  },
  {
   "cell_type": "code",
   "execution_count": 5,
   "id": "98ed76d6",
   "metadata": {},
   "outputs": [
    {
     "ename": "ModuleNotFoundError",
     "evalue": "No module named 'torch'",
     "output_type": "error",
     "traceback": [
      "\u001b[31m---------------------------------------------------------------------------\u001b[39m",
      "\u001b[31mModuleNotFoundError\u001b[39m                       Traceback (most recent call last)",
      "\u001b[36mCell\u001b[39m\u001b[36m \u001b[39m\u001b[32mIn[5]\u001b[39m\u001b[32m, line 1\u001b[39m\n\u001b[32m----> \u001b[39m\u001b[32m1\u001b[39m \u001b[38;5;28;01mimport\u001b[39;00m\u001b[38;5;250m \u001b[39m\u001b[34;01multralytics\u001b[39;00m\n\u001b[32m      2\u001b[39m \u001b[38;5;28mprint\u001b[39m(\u001b[33mf\u001b[39m\u001b[33m\"\u001b[39m\u001b[33mUltralytics version: \u001b[39m\u001b[38;5;132;01m{\u001b[39;00multralytics.__version__\u001b[38;5;132;01m}\u001b[39;00m\u001b[33m\"\u001b[39m)\n\u001b[32m      3\u001b[39m ultralytics.checks()\n",
      "\u001b[36mFile \u001b[39m\u001b[32mc:\\Users\\tusha\\OneDrive\\Desktop\\rg\\ultralytics\\ultralytics\\__init__.py:11\u001b[39m\n\u001b[32m      8\u001b[39m \u001b[38;5;28;01mif\u001b[39;00m \u001b[38;5;129;01mnot\u001b[39;00m os.environ.get(\u001b[33m\"\u001b[39m\u001b[33mOMP_NUM_THREADS\u001b[39m\u001b[33m\"\u001b[39m):\n\u001b[32m      9\u001b[39m     os.environ[\u001b[33m\"\u001b[39m\u001b[33mOMP_NUM_THREADS\u001b[39m\u001b[33m\"\u001b[39m] = \u001b[33m\"\u001b[39m\u001b[33m1\u001b[39m\u001b[33m\"\u001b[39m  \u001b[38;5;66;03m# default for reduced CPU utilization during training\u001b[39;00m\n\u001b[32m---> \u001b[39m\u001b[32m11\u001b[39m \u001b[38;5;28;01mfrom\u001b[39;00m\u001b[38;5;250m \u001b[39m\u001b[34;01multralytics\u001b[39;00m\u001b[34;01m.\u001b[39;00m\u001b[34;01mmodels\u001b[39;00m\u001b[38;5;250m \u001b[39m\u001b[38;5;28;01mimport\u001b[39;00m NAS, RTDETR, SAM, YOLO, YOLOE, FastSAM, YOLOWorld\n\u001b[32m     12\u001b[39m \u001b[38;5;28;01mfrom\u001b[39;00m\u001b[38;5;250m \u001b[39m\u001b[34;01multralytics\u001b[39;00m\u001b[34;01m.\u001b[39;00m\u001b[34;01mutils\u001b[39;00m\u001b[38;5;250m \u001b[39m\u001b[38;5;28;01mimport\u001b[39;00m ASSETS, SETTINGS\n\u001b[32m     13\u001b[39m \u001b[38;5;28;01mfrom\u001b[39;00m\u001b[38;5;250m \u001b[39m\u001b[34;01multralytics\u001b[39;00m\u001b[34;01m.\u001b[39;00m\u001b[34;01mutils\u001b[39;00m\u001b[34;01m.\u001b[39;00m\u001b[34;01mchecks\u001b[39;00m\u001b[38;5;250m \u001b[39m\u001b[38;5;28;01mimport\u001b[39;00m check_yolo \u001b[38;5;28;01mas\u001b[39;00m checks\n",
      "\u001b[36mFile \u001b[39m\u001b[32mc:\\Users\\tusha\\OneDrive\\Desktop\\rg\\ultralytics\\ultralytics\\models\\__init__.py:3\u001b[39m\n\u001b[32m      1\u001b[39m \u001b[38;5;66;03m# Ultralytics 🚀 AGPL-3.0 License - https://ultralytics.com/license\u001b[39;00m\n\u001b[32m----> \u001b[39m\u001b[32m3\u001b[39m \u001b[38;5;28;01mfrom\u001b[39;00m\u001b[38;5;250m \u001b[39m\u001b[34;01m.\u001b[39;00m\u001b[34;01mfastsam\u001b[39;00m\u001b[38;5;250m \u001b[39m\u001b[38;5;28;01mimport\u001b[39;00m FastSAM\n\u001b[32m      4\u001b[39m \u001b[38;5;28;01mfrom\u001b[39;00m\u001b[38;5;250m \u001b[39m\u001b[34;01m.\u001b[39;00m\u001b[34;01mnas\u001b[39;00m\u001b[38;5;250m \u001b[39m\u001b[38;5;28;01mimport\u001b[39;00m NAS\n\u001b[32m      5\u001b[39m \u001b[38;5;28;01mfrom\u001b[39;00m\u001b[38;5;250m \u001b[39m\u001b[34;01m.\u001b[39;00m\u001b[34;01mrtdetr\u001b[39;00m\u001b[38;5;250m \u001b[39m\u001b[38;5;28;01mimport\u001b[39;00m RTDETR\n",
      "\u001b[36mFile \u001b[39m\u001b[32mc:\\Users\\tusha\\OneDrive\\Desktop\\rg\\ultralytics\\ultralytics\\models\\fastsam\\__init__.py:3\u001b[39m\n\u001b[32m      1\u001b[39m \u001b[38;5;66;03m# Ultralytics 🚀 AGPL-3.0 License - https://ultralytics.com/license\u001b[39;00m\n\u001b[32m----> \u001b[39m\u001b[32m3\u001b[39m \u001b[38;5;28;01mfrom\u001b[39;00m\u001b[38;5;250m \u001b[39m\u001b[34;01m.\u001b[39;00m\u001b[34;01mmodel\u001b[39;00m\u001b[38;5;250m \u001b[39m\u001b[38;5;28;01mimport\u001b[39;00m FastSAM\n\u001b[32m      4\u001b[39m \u001b[38;5;28;01mfrom\u001b[39;00m\u001b[38;5;250m \u001b[39m\u001b[34;01m.\u001b[39;00m\u001b[34;01mpredict\u001b[39;00m\u001b[38;5;250m \u001b[39m\u001b[38;5;28;01mimport\u001b[39;00m FastSAMPredictor\n\u001b[32m      5\u001b[39m \u001b[38;5;28;01mfrom\u001b[39;00m\u001b[38;5;250m \u001b[39m\u001b[34;01m.\u001b[39;00m\u001b[34;01mval\u001b[39;00m\u001b[38;5;250m \u001b[39m\u001b[38;5;28;01mimport\u001b[39;00m FastSAMValidator\n",
      "\u001b[36mFile \u001b[39m\u001b[32mc:\\Users\\tusha\\OneDrive\\Desktop\\rg\\ultralytics\\ultralytics\\models\\fastsam\\model.py:6\u001b[39m\n\u001b[32m      3\u001b[39m \u001b[38;5;28;01mfrom\u001b[39;00m\u001b[38;5;250m \u001b[39m\u001b[34;01mpathlib\u001b[39;00m\u001b[38;5;250m \u001b[39m\u001b[38;5;28;01mimport\u001b[39;00m Path\n\u001b[32m      4\u001b[39m \u001b[38;5;28;01mfrom\u001b[39;00m\u001b[38;5;250m \u001b[39m\u001b[34;01mtyping\u001b[39;00m\u001b[38;5;250m \u001b[39m\u001b[38;5;28;01mimport\u001b[39;00m Any, Dict, List, Optional\n\u001b[32m----> \u001b[39m\u001b[32m6\u001b[39m \u001b[38;5;28;01mfrom\u001b[39;00m\u001b[38;5;250m \u001b[39m\u001b[34;01multralytics\u001b[39;00m\u001b[34;01m.\u001b[39;00m\u001b[34;01mengine\u001b[39;00m\u001b[34;01m.\u001b[39;00m\u001b[34;01mmodel\u001b[39;00m\u001b[38;5;250m \u001b[39m\u001b[38;5;28;01mimport\u001b[39;00m Model\n\u001b[32m      8\u001b[39m \u001b[38;5;28;01mfrom\u001b[39;00m\u001b[38;5;250m \u001b[39m\u001b[34;01m.\u001b[39;00m\u001b[34;01mpredict\u001b[39;00m\u001b[38;5;250m \u001b[39m\u001b[38;5;28;01mimport\u001b[39;00m FastSAMPredictor\n\u001b[32m      9\u001b[39m \u001b[38;5;28;01mfrom\u001b[39;00m\u001b[38;5;250m \u001b[39m\u001b[34;01m.\u001b[39;00m\u001b[34;01mval\u001b[39;00m\u001b[38;5;250m \u001b[39m\u001b[38;5;28;01mimport\u001b[39;00m FastSAMValidator\n",
      "\u001b[36mFile \u001b[39m\u001b[32mc:\\Users\\tusha\\OneDrive\\Desktop\\rg\\ultralytics\\ultralytics\\engine\\model.py:8\u001b[39m\n\u001b[32m      5\u001b[39m \u001b[38;5;28;01mfrom\u001b[39;00m\u001b[38;5;250m \u001b[39m\u001b[34;01mtyping\u001b[39;00m\u001b[38;5;250m \u001b[39m\u001b[38;5;28;01mimport\u001b[39;00m Any, Dict, List, Union\n\u001b[32m      7\u001b[39m \u001b[38;5;28;01mimport\u001b[39;00m\u001b[38;5;250m \u001b[39m\u001b[34;01mnumpy\u001b[39;00m\u001b[38;5;250m \u001b[39m\u001b[38;5;28;01mas\u001b[39;00m\u001b[38;5;250m \u001b[39m\u001b[34;01mnp\u001b[39;00m\n\u001b[32m----> \u001b[39m\u001b[32m8\u001b[39m \u001b[38;5;28;01mimport\u001b[39;00m\u001b[38;5;250m \u001b[39m\u001b[34;01mtorch\u001b[39;00m\n\u001b[32m      9\u001b[39m \u001b[38;5;28;01mfrom\u001b[39;00m\u001b[38;5;250m \u001b[39m\u001b[34;01mPIL\u001b[39;00m\u001b[38;5;250m \u001b[39m\u001b[38;5;28;01mimport\u001b[39;00m Image\n\u001b[32m     11\u001b[39m \u001b[38;5;28;01mfrom\u001b[39;00m\u001b[38;5;250m \u001b[39m\u001b[34;01multralytics\u001b[39;00m\u001b[34;01m.\u001b[39;00m\u001b[34;01mcfg\u001b[39;00m\u001b[38;5;250m \u001b[39m\u001b[38;5;28;01mimport\u001b[39;00m TASK2DATA, get_cfg, get_save_dir\n",
      "\u001b[31mModuleNotFoundError\u001b[39m: No module named 'torch'"
     ]
    }
   ],
   "source": [
    "import ultralytics\n",
    "print(f\"Ultralytics version: {ultralytics.__version__}\")\n",
    "ultralytics.checks()"
   ]
  },
  {
   "cell_type": "code",
   "execution_count": 6,
   "id": "407788b3",
   "metadata": {},
   "outputs": [
    {
     "name": "stdout",
     "output_type": "stream",
     "text": [
      "C:\\Users\\tusha\\OneDrive\\Desktop\\rg\\ultralytics\n"
     ]
    }
   ],
   "source": [
    "WORK_DIR = r'C:\\Users\\tusha\\OneDrive\\Desktop\\rg\\ultralytics'\n",
    "%cd {WORK_DIR}"
   ]
  },
  {
   "cell_type": "code",
   "execution_count": 7,
   "id": "664234e1",
   "metadata": {},
   "outputs": [
    {
     "name": "stdout",
     "output_type": "stream",
     "text": [
      "Requirement already satisfied: roboflow in c:\\users\\tusha\\appdata\\roaming\\python\\python313\\site-packages (1.2.2)\n",
      "Requirement already satisfied: certifi in c:\\users\\tusha\\appdata\\roaming\\python\\python313\\site-packages (from roboflow) (2025.7.14)\n",
      "Requirement already satisfied: idna==3.7 in c:\\users\\tusha\\appdata\\roaming\\python\\python313\\site-packages (from roboflow) (3.7)\n",
      "Requirement already satisfied: cycler in c:\\users\\tusha\\appdata\\roaming\\python\\python313\\site-packages (from roboflow) (0.12.1)\n",
      "Requirement already satisfied: kiwisolver>=1.3.1 in c:\\users\\tusha\\appdata\\roaming\\python\\python313\\site-packages (from roboflow) (1.4.8)\n",
      "Requirement already satisfied: matplotlib in c:\\users\\tusha\\appdata\\roaming\\python\\python313\\site-packages (from roboflow) (3.10.3)\n",
      "Requirement already satisfied: numpy>=1.18.5 in c:\\users\\tusha\\appdata\\local\\programs\\python\\python313\\lib\\site-packages (from roboflow) (2.2.6)\n",
      "Requirement already satisfied: opencv-python-headless==4.10.0.84 in c:\\users\\tusha\\appdata\\roaming\\python\\python313\\site-packages (from roboflow) (4.10.0.84)\n",
      "Requirement already satisfied: Pillow>=7.1.2 in c:\\users\\tusha\\appdata\\roaming\\python\\python313\\site-packages (from roboflow) (11.3.0)\n",
      "Requirement already satisfied: pillow-heif<2 in c:\\users\\tusha\\appdata\\roaming\\python\\python313\\site-packages (from roboflow) (1.0.0)\n",
      "Requirement already satisfied: pillow-avif-plugin<2 in c:\\users\\tusha\\appdata\\roaming\\python\\python313\\site-packages (from roboflow) (1.5.2)\n",
      "Requirement already satisfied: python-dateutil in c:\\users\\tusha\\appdata\\roaming\\python\\python313\\site-packages (from roboflow) (2.9.0.post0)\n",
      "Requirement already satisfied: python-dotenv in c:\\users\\tusha\\appdata\\roaming\\python\\python313\\site-packages (from roboflow) (1.1.1)\n",
      "Requirement already satisfied: requests in c:\\users\\tusha\\appdata\\roaming\\python\\python313\\site-packages (from roboflow) (2.32.4)\n",
      "Requirement already satisfied: six in c:\\users\\tusha\\appdata\\roaming\\python\\python313\\site-packages (from roboflow) (1.17.0)\n",
      "Requirement already satisfied: urllib3>=1.26.6 in c:\\users\\tusha\\appdata\\roaming\\python\\python313\\site-packages (from roboflow) (2.5.0)\n",
      "Requirement already satisfied: tqdm>=4.41.0 in c:\\users\\tusha\\appdata\\roaming\\python\\python313\\site-packages (from roboflow) (4.67.1)\n",
      "Requirement already satisfied: PyYAML>=5.3.1 in c:\\users\\tusha\\appdata\\roaming\\python\\python313\\site-packages (from roboflow) (6.0.2)\n",
      "Requirement already satisfied: requests-toolbelt in c:\\users\\tusha\\appdata\\roaming\\python\\python313\\site-packages (from roboflow) (1.0.0)\n",
      "Requirement already satisfied: filetype in c:\\users\\tusha\\appdata\\roaming\\python\\python313\\site-packages (from roboflow) (1.2.0)\n",
      "Requirement already satisfied: colorama in c:\\users\\tusha\\appdata\\roaming\\python\\python313\\site-packages (from tqdm>=4.41.0->roboflow) (0.4.6)\n",
      "Requirement already satisfied: contourpy>=1.0.1 in c:\\users\\tusha\\appdata\\roaming\\python\\python313\\site-packages (from matplotlib->roboflow) (1.3.3)\n",
      "Requirement already satisfied: fonttools>=4.22.0 in c:\\users\\tusha\\appdata\\roaming\\python\\python313\\site-packages (from matplotlib->roboflow) (4.59.0)\n",
      "Requirement already satisfied: packaging>=20.0 in c:\\users\\tusha\\appdata\\roaming\\python\\python313\\site-packages (from matplotlib->roboflow) (25.0)\n",
      "Requirement already satisfied: pyparsing>=2.3.1 in c:\\users\\tusha\\appdata\\roaming\\python\\python313\\site-packages (from matplotlib->roboflow) (3.2.3)\n",
      "Requirement already satisfied: charset_normalizer<4,>=2 in c:\\users\\tusha\\appdata\\roaming\\python\\python313\\site-packages (from requests->roboflow) (3.4.2)\n"
     ]
    }
   ],
   "source": [
    "!pip install roboflow\n"
   ]
  },
  {
   "cell_type": "code",
   "execution_count": 8,
   "id": "21a25939",
   "metadata": {},
   "outputs": [],
   "source": [
    "from roboflow import Roboflow\n"
   ]
  },
  {
   "cell_type": "code",
   "execution_count": null,
   "id": "7a6f4756",
   "metadata": {},
   "outputs": [
    {
     "name": "stdout",
     "output_type": "stream",
     "text": [
      "loading Roboflow workspace...\n",
      "loading Roboflow project...\n"
     ]
    },
    {
     "name": "stderr",
     "output_type": "stream",
     "text": [
      "Downloading Dataset Version Zip in TLD-2025-1 to yolov8::  15%|█▌        | 39469/257561 [00:05<00:16, 13431.26it/s]"
     ]
    }
   ],
   "source": [
    "rf = Roboflow(api_key=\"AjIGZ2OMOJzu8TYy6WUJ\")\n",
    "project = rf.workspace(\"sohan10012\").project(\"tld-2025-cszo1\")\n",
    "dataset = project.version(1).download(\"yolov8\")"
   ]
  },
  {
   "cell_type": "code",
   "execution_count": null,
   "id": "5167b591",
   "metadata": {},
   "outputs": [],
   "source": []
  }
 ],
 "metadata": {
  "kernelspec": {
   "display_name": "rgenv",
   "language": "python",
   "name": "python3"
  },
  "language_info": {
   "codemirror_mode": {
    "name": "ipython",
    "version": 3
   },
   "file_extension": ".py",
   "mimetype": "text/x-python",
   "name": "python",
   "nbconvert_exporter": "python",
   "pygments_lexer": "ipython3",
   "version": "3.13.1"
  }
 },
 "nbformat": 4,
 "nbformat_minor": 5
}
